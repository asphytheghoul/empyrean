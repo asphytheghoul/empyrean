{
 "cells": [
  {
   "cell_type": "code",
   "execution_count": 1,
   "metadata": {},
   "outputs": [
    {
     "name": "stderr",
     "output_type": "stream",
     "text": [
      "C:\\Users\\Asus\\AppData\\Local\\Temp\\ipykernel_23808\\3621041123.py:20: DeprecationWarning: The binary mode of fromstring is deprecated, as it behaves surprisingly on unicode inputs. Use frombuffer instead\n",
      "  data = np.fromstring(frames, np.int16)\n",
      "C:\\Users\\Asus\\AppData\\Local\\Temp\\ipykernel_23808\\3621041123.py:25: DeprecationWarning: tostring() is deprecated. Use tobytes() instead.\n",
      "  clip_file.writeframes(data.tostring())\n"
     ]
    }
   ],
   "source": [
    "import wave\n",
    "import numpy as np\n",
    "\n",
    "# Open the input WAV file\n",
    "with wave.open(\"W_Forest/gun_bird_test.wav\", \"r\") as wav_file:\n",
    "    # Get the number of frames and the frame rate\n",
    "    num_frames = wav_file.getnframes()\n",
    "    frame_rate = wav_file.getframerate()\n",
    "\n",
    "    # Compute the length of the audio in seconds\n",
    "    audio_length = num_frames / frame_rate\n",
    "\n",
    "    # Compute the number of clips that will be created\n",
    "    num_clips = int(audio_length / 3)\n",
    "\n",
    "    # Iterate over the clips\n",
    "    for i in range(num_clips):\n",
    "        # Read 3 seconds of audio\n",
    "        frames = wav_file.readframes(frame_rate * 3)\n",
    "        data = np.fromstring(frames, np.int16)\n",
    "\n",
    "        # Save the clip to a new WAV file\n",
    "        with wave.open(f\"clip{i}.wav\", \"w\") as clip_file:\n",
    "            clip_file.setparams(wav_file.getparams())\n",
    "            clip_file.writeframes(data.tostring())\n"
   ]
  },
  {
   "cell_type": "code",
   "execution_count": null,
   "metadata": {},
   "outputs": [],
   "source": []
  }
 ],
 "metadata": {
  "kernelspec": {
   "display_name": "torch-gpu",
   "language": "python",
   "name": "python3"
  },
  "language_info": {
   "codemirror_mode": {
    "name": "ipython",
    "version": 3
   },
   "file_extension": ".py",
   "mimetype": "text/x-python",
   "name": "python",
   "nbconvert_exporter": "python",
   "pygments_lexer": "ipython3",
   "version": "3.8.13"
  },
  "orig_nbformat": 4,
  "vscode": {
   "interpreter": {
    "hash": "ea9ceb0b7e3f457d29129ad6ad6d3750fd1ab50a0da3c37c2bb5b7c85d56784f"
   }
  }
 },
 "nbformat": 4,
 "nbformat_minor": 2
}
