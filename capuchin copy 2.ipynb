{
 "cells": [
  {
   "cell_type": "code",
   "execution_count": null,
   "metadata": {},
   "outputs": [],
   "source": []
  },
  {
   "cell_type": "code",
   "execution_count": 1,
   "metadata": {},
   "outputs": [
    {
     "name": "stdout",
     "output_type": "stream",
     "text": [
      "2.10.0\n",
      "0.27.0\n"
     ]
    }
   ],
   "source": [
    "import tensorflow as tf\n",
    "import numpy as np\n",
    "import pandas as pd\n",
    "import tensorflow_io as tfio\n",
    "import os \n",
    "print(tf.__version__)\n",
    "print(tfio.__version__)\n",
    "import matplotlib.pyplot as plt"
   ]
  },
  {
   "cell_type": "code",
   "execution_count": 2,
   "metadata": {},
   "outputs": [],
   "source": [
    "physical_devices = tf.config.experimental.list_physical_devices('GPU')\n",
    "tf.config.experimental.set_memory_growth(physical_devices[0], True)"
   ]
  },
  {
   "cell_type": "code",
   "execution_count": 3,
   "metadata": {},
   "outputs": [],
   "source": [
    "CAPUCHIN = \"Gunshots/106955-6-0-0.wav\"\n",
    "NOT_CAPUCHIN = 'Parsed_Not_Capuchinbird_Clips/afternoon-birds-song-in-forest-4.wav'"
   ]
  },
  {
   "cell_type": "markdown",
   "metadata": {},
   "source": [
    "JUST FOR VISUALIZATION PURPOSE"
   ]
  },
  {
   "cell_type": "code",
   "execution_count": 4,
   "metadata": {},
   "outputs": [],
   "source": [
    "def get_audio(filepath):\n",
    "    file_contents = tf.io.read_file(filepath)\n",
    "    wav,sample_rate = tf.audio.decode_wav(file_contents,desired_channels=1)\n",
    "    wav = tf.squeeze(wav,axis=-1)\n",
    "    sample_rate = tf.cast(sample_rate,dtype=tf.int64)\n",
    "    wav = tfio.audio.resample(wav,rate_in=sample_rate,rate_out=16000)\n",
    "    return wav"
   ]
  },
  {
   "cell_type": "code",
   "execution_count": 5,
   "metadata": {},
   "outputs": [
    {
     "data": {
      "text/plain": [
       "<tf.Tensor: shape=(18400, 1), dtype=float32, numpy=\n",
       "array([[-6.6636971e-09],\n",
       "       [ 1.9112765e-08],\n",
       "       [ 4.2049315e-09],\n",
       "       ...,\n",
       "       [ 3.9012648e-02],\n",
       "       [ 4.3579541e-02],\n",
       "       [ 4.1023836e-02]], dtype=float32)>"
      ]
     },
     "execution_count": 5,
     "metadata": {},
     "output_type": "execute_result"
    }
   ],
   "source": [
    "file_contents = tf.io.read_file(CAPUCHIN)\n",
    "wav,sample_rate = tf.audio.decode_wav(file_contents,desired_channels=1)\n",
    "wav\n",
    "sample_rate\n",
    "wav = tfio.audio.resample(wav,rate_in=44100,rate_out=16000)\n",
    "wav"
   ]
  },
  {
   "cell_type": "code",
   "execution_count": 6,
   "metadata": {},
   "outputs": [],
   "source": [
    "wav = get_audio(CAPUCHIN)\n",
    "nwave = get_audio(NOT_CAPUCHIN)"
   ]
  },
  {
   "cell_type": "code",
   "execution_count": 7,
   "metadata": {},
   "outputs": [
    {
     "data": {
      "image/png": "[encoded data removed]",
      "text/plain": [
       "<Figure size 640x480 with 1 Axes>"
      ]
     },
     "metadata": {},
     "output_type": "display_data"
    }
   ],
   "source": [
    "plt.plot(wav)\n",
    "plt.plot(nwave)\n",
    "plt.show()"
   ]
  },
  {
   "cell_type": "code",
   "execution_count": 8,
   "metadata": {},
   "outputs": [],
   "source": [
    "BIRD = \"Parsed_Capuchinbird_Clips\"\n",
    "NO_SOUND = \"Parsed_Not_Capuchinbird_Clips\"\n",
    "LION = \"Pure_Lion\"\n",
    "GUN = \"gunshots_version2\""
   ]
  },
  {
   "cell_type": "code",
   "execution_count": null,
   "metadata": {},
   "outputs": [],
   "source": []
  },
  {
   "cell_type": "code",
   "execution_count": 9,
   "metadata": {},
   "outputs": [],
   "source": [
    "pos1 = tf.data.Dataset.list_files(BIRD+\"/*.wav\")\n",
    "pos2 = tf.data.Dataset.list_files(LION+\"/*.wav\")\n",
    "pos3 = tf.data.Dataset.list_files(GUN+\"/*.wav\")\n",
    "neg = tf.data.Dataset.list_files(NO_SOUND+\"/*.wav\")\n",
    "\n",
    "cap = tf.ones(len(pos1),tf.int32)\n",
    "cap = tf.keras.utils.to_categorical(cap,4)\n",
    "\n",
    "no_cap = tf.zeros(len(neg),tf.int32)\n",
    "no_cap = tf.keras.utils.to_categorical(no_cap,4)\n",
    "\n",
    "lion = np.full(25,2,dtype=int)\n",
    "lion = tf.convert_to_tensor(lion)\n",
    "lion = tf.keras.utils.to_categorical(lion,4)\n",
    "gun = np.full(374,3,dtype=int)\n",
    "gun = tf.convert_to_tensor(gun)\n",
    "gun = tf.keras.utils.to_categorical(gun,4)"
   ]
  },
  {
   "cell_type": "code",
   "execution_count": 10,
   "metadata": {},
   "outputs": [],
   "source": [
    "class_list = [\"ambient\",\"capuchin\",\"lion\",\"gun\"]"
   ]
  },
  {
   "cell_type": "code",
   "execution_count": 11,
   "metadata": {},
   "outputs": [
    {
     "data": {
      "text/plain": [
       "1210"
      ]
     },
     "execution_count": 11,
     "metadata": {},
     "output_type": "execute_result"
    }
   ],
   "source": [
    "# pos1 = tf.data.Dataset.list_files(YES+\"/*.wav\")\n",
    "# pos2 = tf.data.Dataset.list_files(YES[1]+\"/*.wav\")\n",
    "# pos3 = tf.data.Dataset.list_files(YES[2]+\"/*.wav\")\n",
    "# neg = tf.data.Dataset.list_files(NO+\"/*.wav\")\n",
    "pos1.as_numpy_iterator().next()\n",
    "pos2.as_numpy_iterator().next()\n",
    "pos3.as_numpy_iterator().next()\n",
    "# pos3.as_numpy_iterator().next()\n",
    "positives = tf.data.Dataset.zip((pos1,tf.data.Dataset.from_tensor_slices(cap)))\n",
    "positives2 = tf.data.Dataset.zip((pos2,tf.data.Dataset.from_tensor_slices(lion)))\n",
    "positives3 = tf.data.Dataset.zip((pos3,tf.data.Dataset.from_tensor_slices(gun)))\n",
    "# positives3 = tf.data.Dataset.zip((pos3,tf.data.Dataset.from_tensor_slices(tf.ones(len(pos3)))))\n",
    "negatives = tf.data.Dataset.zip((neg,tf.data.Dataset.from_tensor_slices(no_cap)))\n",
    "data1=positives.concatenate(positives2)\n",
    "data2 = data1.concatenate(positives3)\n",
    "data3=data2.concatenate(negatives)\n",
    "data3.shuffle(1000).as_numpy_iterator().next()\n",
    "len(data3)"
   ]
  },
  {
   "cell_type": "markdown",
   "metadata": {},
   "source": [
    "## Finding the average length of a bird call"
   ]
  },
  {
   "cell_type": "code",
   "execution_count": 12,
   "metadata": {},
   "outputs": [
    {
     "name": "stdout",
     "output_type": "stream",
     "text": [
      "WARNING:tensorflow:5 out of the last 5 calls to <function pfor.<locals>.f at 0x0000017DCA4989D0> triggered tf.function retracing. Tracing is expensive and the excessive number of tracings could be due to (1) creating @tf.function repeatedly in a loop, (2) passing tensors with different shapes, (3) passing Python objects instead of tensors. For (1), please define your @tf.function outside of the loop. For (2), @tf.function has reduce_retracing=True option that can avoid unnecessary retracing. For (3), please refer to https://www.tensorflow.org/guide/function#controlling_retracing and https://www.tensorflow.org/api_docs/python/tf/function for  more details.\n",
      "WARNING:tensorflow:6 out of the last 6 calls to <function pfor.<locals>.f at 0x0000017DCA498A60> triggered tf.function retracing. Tracing is expensive and the excessive number of tracings could be due to (1) creating @tf.function repeatedly in a loop, (2) passing tensors with different shapes, (3) passing Python objects instead of tensors. For (1), please define your @tf.function outside of the loop. For (2), @tf.function has reduce_retracing=True option that can avoid unnecessary retracing. For (3), please refer to https://www.tensorflow.org/guide/function#controlling_retracing and https://www.tensorflow.org/api_docs/python/tf/function for  more details.\n"
     ]
    }
   ],
   "source": [
    "lengths = []\n",
    "for file in os.listdir(\"Parsed_Capuchinbird_Clips\"):\n",
    "    tensor_wave = get_audio(os.path.join(\"Parsed_Capuchinbird_Clips\",file))\n",
    "    lengths.append(len(tensor_wave))"
   ]
  },
  {
   "cell_type": "code",
   "execution_count": 13,
   "metadata": {},
   "outputs": [
    {
     "data": {
      "text/plain": [
       "<tf.Tensor: shape=(), dtype=int32, numpy=54156>"
      ]
     },
     "execution_count": 13,
     "metadata": {},
     "output_type": "execute_result"
    }
   ],
   "source": [
    "lengths\n",
    "tf.math.reduce_mean(lengths)\n"
   ]
  },
  {
   "cell_type": "code",
   "execution_count": 14,
   "metadata": {},
   "outputs": [],
   "source": [
    "def preprocess(file_path,label):\n",
    "    wav = get_audio(file_path)\n",
    "    wav = wav[:48000]\n",
    "    zero_padding = tf.zeros([48000]-tf.shape(wav),dtype=tf.float32)\n",
    "    wav = tf.concat([zero_padding,wav],0)\n",
    "    spectrogram = tf.signal.stft(wav,frame_length=320,frame_step=32)#preprocessing the spectrogram\n",
    "    spectrogram = tf.abs(spectrogram)#remove the negatives\n",
    "    spectrogram = tf.expand_dims(spectrogram,axis=2)#adding a channel dim for the cnn\n",
    "    return spectrogram,label"
   ]
  },
  {
   "cell_type": "code",
   "execution_count": 15,
   "metadata": {},
   "outputs": [],
   "source": [
    "##### MODIFIED CODE ###\n",
    "def preprocess_lstm(file_path,label):\n",
    "    wav = get_audio(file_path)\n",
    "    wav = wav[:48000]\n",
    "    zero_padding = tf.zeros([48000]-tf.shape(wav),dtype=tf.float32)\n",
    "    wav = tf.concat([zero_padding,wav],0)\n",
    "    spectrogram = tf.signal.stft(wav,frame_length=320,frame_step=32)#preprocessing the spectrogram\n",
    "    spectrogram = tf.abs(spectrogram)#remove the negatives\n",
    "    # spectrogram = tf.expand_dims(spectrogram,axis=2)#adding a channel dim for the cnn\n",
    "    return spectrogram,label"
   ]
  },
  {
   "cell_type": "code",
   "execution_count": 16,
   "metadata": {},
   "outputs": [
    {
     "name": "stdout",
     "output_type": "stream",
     "text": [
      "(1491, 257)\n",
      "[1. 0. 0. 0.]\n"
     ]
    }
   ],
   "source": [
    "filepath,label = negatives.shuffle(buffer_size=1000).as_numpy_iterator().next()\n",
    "spectogram,label = preprocess_lstm(filepath,label)\n",
    "spectogram  \n",
    "print(spectogram.shape)\n",
    "print(label)"
   ]
  },
  {
   "cell_type": "code",
   "execution_count": 17,
   "metadata": {},
   "outputs": [
    {
     "name": "stdout",
     "output_type": "stream",
     "text": [
      "(1491, 257, 1)\n",
      "[0. 0. 0. 1.]\n"
     ]
    },
    {
     "data": {
      "image/png": "[encoded data removed]",
      "text/plain": [
       "<Figure size 3000x3000 with 1 Axes>"
      ]
     },
     "metadata": {},
     "output_type": "display_data"
    }
   ],
   "source": [
    "filepath,label = positives3.shuffle(buffer_size=1000).as_numpy_iterator().next()\n",
    "spectogram,label = preprocess(filepath,label)\n",
    "spectogram  \n",
    "print(spectogram.shape)\n",
    "print(label)\n",
    "plt.figure(figsize=(30,30))\n",
    "plt.imshow(tf.transpose(spectogram)[0])\n",
    "plt.show()"
   ]
  },
  {
   "cell_type": "markdown",
   "metadata": {},
   "source": [
    "# Creating Data Pipeline"
   ]
  },
  {
   "cell_type": "code",
   "execution_count": 18,
   "metadata": {},
   "outputs": [
    {
     "data": {
      "text/plain": [
       "(b'gunshots_version2\\\\52284-6-0-0_converted.wav',\n",
       " array([0., 0., 0., 1.], dtype=float32))"
      ]
     },
     "execution_count": 18,
     "metadata": {},
     "output_type": "execute_result"
    }
   ],
   "source": [
    "data3.shuffle(1000).as_numpy_iterator().next()"
   ]
  },
  {
   "cell_type": "code",
   "execution_count": 19,
   "metadata": {},
   "outputs": [],
   "source": [
    "# data3 = data3.map(preprocess)\n",
    "# data3 = data3.cache()\n",
    "# data3 = data3.shuffle(buffer_size=1000)\n",
    "# data3 = data3.batch(16)\n",
    "# data3 = data3.prefetch(8)\n"
   ]
  },
  {
   "cell_type": "code",
   "execution_count": 20,
   "metadata": {},
   "outputs": [],
   "source": [
    "# print(0.7*len(data3))\n",
    "# print(len(data3))\n",
    "# train_size = data3.take(36)\n",
    "# test_size = data3.skip(36).take(15)"
   ]
  },
  {
   "cell_type": "code",
   "execution_count": 21,
   "metadata": {},
   "outputs": [],
   "source": [
    "# samples,labels = train_size.as_numpy_iterator().next()\n",
    "# print(samples.shape,labels)\n"
   ]
  },
  {
   "attachments": {},
   "cell_type": "markdown",
   "metadata": {},
   "source": [
    "## CHANGES"
   ]
  },
  {
   "cell_type": "code",
   "execution_count": 22,
   "metadata": {},
   "outputs": [
    {
     "name": "stdout",
     "output_type": "stream",
     "text": [
      "WARNING:tensorflow:Using a while_loop for converting IO>AudioResample cause there is no registered converter for this op.\n"
     ]
    }
   ],
   "source": [
    "data3 = data3.map(preprocess_lstm)\n",
    "data3 = data3.cache()\n",
    "data3 = data3.shuffle(buffer_size=1000)\n",
    "data3 = data3.batch(16)\n",
    "data3 = data3.prefetch(8)"
   ]
  },
  {
   "cell_type": "code",
   "execution_count": 23,
   "metadata": {},
   "outputs": [
    {
     "name": "stdout",
     "output_type": "stream",
     "text": [
      "53.199999999999996\n",
      "76\n"
     ]
    }
   ],
   "source": [
    "print(0.7*len(data3))\n",
    "print(len(data3))"
   ]
  },
  {
   "cell_type": "code",
   "execution_count": 24,
   "metadata": {},
   "outputs": [],
   "source": [
    "lstm_train_size = data3.take(54)\n",
    "lstm_test_size = data3.skip(54).take(22)"
   ]
  },
  {
   "cell_type": "code",
   "execution_count": 25,
   "metadata": {},
   "outputs": [
    {
     "name": "stdout",
     "output_type": "stream",
     "text": [
      "(16, 1491, 257)\n",
      "(16, 4)\n"
     ]
    }
   ],
   "source": [
    "sample,label = lstm_train_size.as_numpy_iterator().next()\n",
    "print(sample.shape)\n",
    "print(label.shape)"
   ]
  },
  {
   "cell_type": "code",
   "execution_count": 26,
   "metadata": {},
   "outputs": [
    {
     "data": {
      "text/plain": [
       "1491"
      ]
     },
     "execution_count": 26,
     "metadata": {},
     "output_type": "execute_result"
    }
   ],
   "source": [
    "lstm_train_size.as_numpy_iterator().next()[0].shape[1]"
   ]
  },
  {
   "cell_type": "markdown",
   "metadata": {},
   "source": [
    "# Building CNN"
   ]
  },
  {
   "cell_type": "code",
   "execution_count": 27,
   "metadata": {},
   "outputs": [],
   "source": [
    "from sklearn.model_selection import train_test_split\n",
    "from keras.api._v2.keras.models import Sequential\n",
    "from keras.api._v2.keras.layers import Conv2D,Dense,Flatten,MaxPool2D,Dropout,LSTM,TimeDistributed,BatchNormalization\n",
    "from keras.api._v2.keras.optimizers import Adam"
   ]
  },
  {
   "cell_type": "code",
   "execution_count": 28,
   "metadata": {},
   "outputs": [],
   "source": [
    "def load_data(data_iter):\n",
    "    \"\"\"Loads training dataset from json file.\n",
    "        :param data_path (str): Path to json file containing data\n",
    "        :return X (ndarray): Inputs\n",
    "        :return y (ndarray): Targets\n",
    "    \"\"\"\n",
    "\n",
    "    # with open(data_path, \"r\") as fp:\n",
    "    #     data = json.load(fp)\n",
    "    X = []\n",
    "    y=[]\n",
    "    for item in data_iter.as_numpy_iterator():\n",
    "        X.append(item[0])\n",
    "        y.append(item[1])\n",
    "        # break\n",
    "    X = np.array(X)\n",
    "    y = np.array(y)\n",
    "    return X,y"
   ]
  },
  {
   "cell_type": "code",
   "execution_count": 29,
   "metadata": {},
   "outputs": [],
   "source": [
    "def prepare_datasets(test_size):\n",
    "    \"\"\"Loads data and splits it into train, validation and test sets.\n",
    "    :param test_size (float): Value in [0, 1] indicating percentage of data set to allocate to test split\n",
    "    :param validation_size (float): Value in [0, 1] indicating percentage of train set to allocate to validation split\n",
    "    :return X_train (ndarray): Input training set\n",
    "    :return X_validation (ndarray): Input validation set\n",
    "    :return X_test (ndarray): Input test set\n",
    "    :return y_train (ndarray): Target training set\n",
    "    :return y_validation (ndarray): Target validation set\n",
    "    :return y_test (ndarray): Target test set\n",
    "    \"\"\"\n",
    "\n",
    "    # load data\n",
    "    X, y = load_data(data3)\n",
    "    # print(X)\n",
    "    # print(\"--------------\")\n",
    "    # print(y)\n",
    "    # create train, validation and test split\n",
    "    X_train, X_test, y_train, y_test = train_test_split(X, y, test_size=test_size)\n",
    "    y_train = tf.keras.utils.to_categorical(y_train,2)\n",
    "    y_test = tf.keras.utils.to_categorical(y_test,2)\n",
    "    # X_train, X_validation, y_train, y_validation = train_test_split(X_train, y_train, test_size=validation_size)\n",
    "    return X_train,X_test, y_train, y_test\n",
    "\n",
    "def build_model(input_shape):\n",
    "    \"\"\"Generates RNN model\n",
    "    :param input_shape (tuple): Shape of input set\n",
    "    :return model: RNN model\n",
    "    \"\"\"\n",
    "\n",
    "    # build network topology\n",
    "    model = Sequential()\n",
    "    model.add(LSTM(units=128,input_shape=input_shape,return_sequences=True))\n",
    "    model.add(BatchNormalization())\n",
    "    model.add(LSTM(units=128,return_sequences=True)) \n",
    "    model.add(LSTM(units=128,return_sequences=True)) \n",
    "    model.add(Dropout(0.2))\n",
    "    model.add(TimeDistributed(Dense(64,activation=\"relu\")))\n",
    "    model.add(TimeDistributed(Dense(32,activation=\"relu\")))\n",
    "    model.add(TimeDistributed(Dense(16,activation=\"relu\")))\n",
    "    model.add(TimeDistributed(Dense(8,activation=\"relu\")))\n",
    "    model.add(Flatten())\n",
    "    # output layer\n",
    "    model.add(Dense(4, activation='softmax'))\n",
    "\n",
    "    return model\n",
    "\n",
    "def plot_history(history):\n",
    "    \"\"\"Plots accuracy/loss for training/validation set as a function of the epochs\n",
    "        :param history: Training history of model\n",
    "        :return:\n",
    "    \"\"\"\n",
    "\n",
    "    fig, axs = plt.subplots(2)\n",
    "\n",
    "    # create accuracy sublpot\n",
    "    axs[0].plot(history.history[\"accuracy\"], label=\"train accuracy\")\n",
    "    axs[0].plot(history.history[\"val_accuracy\"], label=\"test accuracy\")\n",
    "    axs[0].set_ylabel(\"Accuracy\")\n",
    "    axs[0].legend(loc=\"lower right\")\n",
    "    axs[0].set_title(\"Accuracy eval\")\n",
    "\n",
    "    # create error sublpot\n",
    "    axs[1].plot(history.history[\"loss\"], label=\"train error\")\n",
    "    axs[1].plot(history.history[\"val_loss\"], label=\"test error\")\n",
    "    axs[1].set_ylabel(\"Error\")\n",
    "    axs[1].set_xlabel(\"Epoch\")\n",
    "    axs[1].legend(loc=\"upper right\")\n",
    "    axs[1].set_title(\"Error eval\")\n",
    "\n",
    "    plt.show()\n",
    "    \n",
    "def predict(model, X, y):\n",
    "    \"\"\"Predict a single sample using the trained model\n",
    "    :param model: Trained classifier\n",
    "    :param X: Input data\n",
    "    :param y (int): Target\n",
    "    \"\"\"\n",
    "\n",
    "    # add a dimension to input data for sample - model.predict() expects a 4d array in this case\n",
    "    X = X[np.newaxis, ...] # array shape (1, 130, 13, 1)\n",
    "\n",
    "    # perform prediction\n",
    "    prediction = model.predict(X)\n",
    "\n",
    "    # get index with max value\n",
    "    predicted_index = np.argmax(prediction, axis=1)\n",
    "\n",
    "    print(\"Target: {}, Predicted label: {}\".format(y, predicted_index))"
   ]
  },
  {
   "cell_type": "code",
   "execution_count": 30,
   "metadata": {},
   "outputs": [
    {
     "name": "stdout",
     "output_type": "stream",
     "text": [
      "(16, 1491, 257)\n",
      "(16, 4)\n",
      "(16, 1491, 257)\n",
      "(16, 4)\n"
     ]
    }
   ],
   "source": [
    "s,l = lstm_train_size.as_numpy_iterator().next()\n",
    "st,lt = lstm_test_size.as_numpy_iterator().next()\n",
    "print(s.shape)\n",
    "print(l.shape)\n",
    "print(st.shape)\n",
    "print(lt.shape)"
   ]
  },
  {
   "cell_type": "code",
   "execution_count": 31,
   "metadata": {},
   "outputs": [
    {
     "name": "stdout",
     "output_type": "stream",
     "text": [
      "(1491, 257)\n",
      "Model: \"sequential\"\n",
      "_________________________________________________________________\n",
      " Layer (type)                Output Shape              Param #   \n",
      "=================================================================\n",
      " lstm (LSTM)                 (None, 1491, 128)         197632    \n",
      "                                                                 \n",
      " batch_normalization (BatchN  (None, 1491, 128)        512       \n",
      " ormalization)                                                   \n",
      "                                                                 \n",
      " lstm_1 (LSTM)               (None, 1491, 128)         131584    \n",
      "                                                                 \n",
      " lstm_2 (LSTM)               (None, 1491, 128)         131584    \n",
      "                                                                 \n",
      " dropout (Dropout)           (None, 1491, 128)         0         \n",
      "                                                                 \n",
      " time_distributed (TimeDistr  (None, 1491, 64)         8256      \n",
      " ibuted)                                                         \n",
      "                                                                 \n",
      " time_distributed_1 (TimeDis  (None, 1491, 32)         2080      \n",
      " tributed)                                                       \n",
      "                                                                 \n",
      " time_distributed_2 (TimeDis  (None, 1491, 16)         528       \n",
      " tributed)                                                       \n",
      "                                                                 \n",
      " time_distributed_3 (TimeDis  (None, 1491, 8)          136       \n",
      " tributed)                                                       \n",
      "                                                                 \n",
      " flatten (Flatten)           (None, 11928)             0         \n",
      "                                                                 \n",
      " dense_4 (Dense)             (None, 4)                 47716     \n",
      "                                                                 \n",
      "=================================================================\n",
      "Total params: 520,028\n",
      "Trainable params: 519,772\n",
      "Non-trainable params: 256\n",
      "_________________________________________________________________\n",
      "Epoch 1/10\n",
      "54/54 [==============================] - 41s 553ms/step - loss: 0.8261 - precision: 0.7920 - recall: 0.4583 - accuracy: 0.6412 - val_loss: 0.7857 - val_precision: 0.9189 - val_recall: 0.3931 - val_accuracy: 0.7428\n",
      "Epoch 2/10\n",
      "54/54 [==============================] - 27s 506ms/step - loss: 0.3435 - precision: 0.8707 - recall: 0.8495 - accuracy: 0.8669 - val_loss: 0.3810 - val_precision: 0.9757 - val_recall: 0.8121 - val_accuracy: 0.9306\n",
      "Epoch 3/10\n",
      "54/54 [==============================] - 28s 514ms/step - loss: 0.2133 - precision: 0.9261 - recall: 0.9144 - accuracy: 0.9167 - val_loss: 0.1860 - val_precision: 0.9793 - val_recall: 0.9566 - val_accuracy: 0.9624\n",
      "Epoch 4/10\n",
      "54/54 [==============================] - 26s 483ms/step - loss: 0.1368 - precision: 0.9498 - recall: 0.9421 - accuracy: 0.9433 - val_loss: 0.1157 - val_precision: 0.9883 - val_recall: 0.9769 - val_accuracy: 0.9827\n",
      "Epoch 5/10\n",
      "54/54 [==============================] - 33s 617ms/step - loss: 0.0980 - precision: 0.9673 - recall: 0.9572 - accuracy: 0.9630 - val_loss: 0.0768 - val_precision: 0.9882 - val_recall: 0.9711 - val_accuracy: 0.9827\n",
      "Epoch 6/10\n",
      "54/54 [==============================] - 37s 695ms/step - loss: 0.0918 - precision: 0.9801 - recall: 0.9711 - accuracy: 0.9745 - val_loss: 0.0400 - val_precision: 0.9971 - val_recall: 0.9942 - val_accuracy: 0.9971\n",
      "Epoch 7/10\n",
      "54/54 [==============================] - 37s 695ms/step - loss: 0.0617 - precision: 0.9849 - recall: 0.9792 - accuracy: 0.9826 - val_loss: 0.0239 - val_precision: 0.9971 - val_recall: 0.9942 - val_accuracy: 0.9971\n",
      "Epoch 8/10\n",
      "54/54 [==============================] - 26s 474ms/step - loss: 0.0677 - precision: 0.9780 - recall: 0.9757 - accuracy: 0.9769 - val_loss: 0.0289 - val_precision: 1.0000 - val_recall: 1.0000 - val_accuracy: 1.0000\n",
      "Epoch 9/10\n",
      "54/54 [==============================] - 26s 489ms/step - loss: 0.0417 - precision: 0.9930 - recall: 0.9873 - accuracy: 0.9896 - val_loss: 0.0164 - val_precision: 0.9971 - val_recall: 0.9971 - val_accuracy: 0.9971\n",
      "Epoch 10/10\n",
      "54/54 [==============================] - 27s 493ms/step - loss: 0.0288 - precision: 0.9954 - recall: 0.9954 - accuracy: 0.9954 - val_loss: 0.0106 - val_precision: 0.9971 - val_recall: 0.9971 - val_accuracy: 0.9971\n"
     ]
    },
    {
     "data": {
      "image/png": "[encoded data removed]",
      "text/plain": [
       "<Figure size 640x480 with 2 Axes>"
      ]
     },
     "metadata": {},
     "output_type": "display_data"
    }
   ],
   "source": [
    "# X_train, X_test, y_train, y_test = prepare_datasets(0.25) #25% testing , 20% of 75 for val\n",
    "\n",
    "# create network\n",
    "input_shape = (1491, 257)\n",
    "print(input_shape)\n",
    "# y_train = tf.keras.utils.to_categorical(y_train,3)\n",
    "# y_test = tf.keras.utils.to_categorical(y_test,3)\n",
    "# # y_test = np.expand_dims(y_test,axis=-1)\n",
    "# print(y_train.shape)\n",
    "# print(X_test.shape)\n",
    "model = build_model(input_shape)\n",
    "\n",
    "# compile model\n",
    "optimiser = Adam(learning_rate=0.0001)\n",
    "model.compile(optimizer=optimiser,\n",
    "                loss='categorical_crossentropy',\n",
    "                metrics=[tf.keras.metrics.Precision(),tf.keras.metrics.Recall(),'accuracy'])\n",
    "\n",
    "model.summary()\n",
    "\n",
    "# train model\n",
    "history = model.fit(lstm_train_size,validation_data=lstm_test_size, batch_size=8, epochs=10)\n",
    "\n",
    "# plot accuracy/error for training and validation\n",
    "plot_history(history)\n",
    "\n"
   ]
  },
  {
   "cell_type": "code",
   "execution_count": 32,
   "metadata": {},
   "outputs": [],
   "source": [
    "# # evaluate model on test set\n",
    "# test_loss, test_precision,test_recall,test_acc = model.evaluate(X_test, y_test, verbose=2)\n",
    "# print('\\nTest accuracy:', test_acc)\n",
    "\n"
   ]
  },
  {
   "cell_type": "code",
   "execution_count": 33,
   "metadata": {},
   "outputs": [],
   "source": [
    "# print(y_test)"
   ]
  },
  {
   "cell_type": "code",
   "execution_count": 34,
   "metadata": {},
   "outputs": [],
   "source": [
    "# # pick a sample to predict from the test set\n",
    "# X_to_predict = X_test[3]\n",
    "# y_to_predict = y_test[3]\n",
    "\n",
    "# for item in range(len(X_test)):\n",
    "#     predict(model,X_test[item],y_test[item])\n",
    "    \n",
    "# predict(model, X_to_predict, y_to_predict)"
   ]
  },
  {
   "cell_type": "code",
   "execution_count": 35,
   "metadata": {},
   "outputs": [],
   "source": [
    "np.set_printoptions(suppress=True)"
   ]
  },
  {
   "cell_type": "code",
   "execution_count": 36,
   "metadata": {},
   "outputs": [
    {
     "name": "stdout",
     "output_type": "stream",
     "text": [
      "[[[0.00086943 0.00143392 0.00255874 ... 0.00000934 0.00000145 0.00000063]\n",
      "  [0.00014628 0.00151149 0.00228788 ... 0.00001605 0.00000428 0.00000592]\n",
      "  [0.00067999 0.00163689 0.00176214 ... 0.00001043 0.0000131  0.00000789]\n",
      "  ...\n",
      "  [0.00491332 0.01775539 0.03390766 ... 0.00000824 0.00000685 0.00000174]\n",
      "  [0.00840363 0.01778747 0.03718053 ... 0.00001065 0.00000342 0.00000116]\n",
      "  [0.0048694  0.01905393 0.03981606 ... 0.00001209 0.00000442 0.00000405]]\n",
      "\n",
      " [[0.01664603 0.01665161 0.02266369 ... 0.00093    0.00020348 0.00007975]\n",
      "  [0.0065476  0.01654124 0.03408215 ... 0.00071338 0.00023625 0.0001705 ]\n",
      "  [0.00108224 0.01579961 0.03663317 ... 0.00055082 0.00029611 0.00007415]\n",
      "  ...\n",
      "  [0.01723953 0.01376    0.04051429 ... 0.00041435 0.00030033 0.00009829]\n",
      "  [0.00875795 0.00707416 0.03169465 ... 0.00044354 0.00036336 0.00006646]\n",
      "  [0.0021043  0.00258129 0.02501312 ... 0.00058938 0.00036237 0.00006714]]\n",
      "\n",
      " [[0.         0.         0.         ... 0.         0.         0.        ]\n",
      "  [0.         0.         0.         ... 0.         0.         0.        ]\n",
      "  [0.         0.         0.         ... 0.         0.         0.        ]\n",
      "  ...\n",
      "  [0.00593931 0.00957892 0.01418226 ... 0.00001953 0.0000055  0.00000215]\n",
      "  [0.00092749 0.01203989 0.00835404 ... 0.00001976 0.00000814 0.0000052 ]\n",
      "  [0.00684562 0.01237737 0.01031359 ... 0.00002347 0.00000499 0.00000412]]\n",
      "\n",
      " ...\n",
      "\n",
      " [[0.25321388 0.28634262 0.28453627 ... 0.00036953 0.00005799 0.00002699]\n",
      "  [0.31764156 0.32635552 0.3354522  ... 0.0003085  0.00003824 0.00003938]\n",
      "  [0.293033   0.31248254 0.34486407 ... 0.00030813 0.00007986 0.00007045]\n",
      "  ...\n",
      "  [0.13512713 0.08782513 0.08573414 ... 0.00009443 0.00005594 0.00000986]\n",
      "  [0.21068457 0.14666747 0.13627583 ... 0.00010147 0.00003572 0.00000317]\n",
      "  [0.24796602 0.22416121 0.26477873 ... 0.00010726 0.00004291 0.00000837]]\n",
      "\n",
      " [[0.18651342 0.14542702 0.7794489  ... 0.00018802 0.00016949 0.00020435]\n",
      "  [0.25174606 0.36528715 0.8557615  ... 0.00030956 0.00007009 0.00024971]\n",
      "  [0.29045177 0.54116917 0.95882267 ... 0.00021571 0.00028609 0.00019611]\n",
      "  ...\n",
      "  [0.16033456 0.04988586 0.26421598 ... 0.00014894 0.00014087 0.00009498]\n",
      "  [0.08358426 0.07024044 0.2528425  ... 0.00008958 0.0000641  0.00001286]\n",
      "  [0.02884735 0.10646535 0.2946725  ... 0.00018905 0.00001556 0.00009947]]\n",
      "\n",
      " [[0.00904352 0.00844935 0.0088304  ... 0.00003336 0.00003159 0.00000816]\n",
      "  [0.00090096 0.00020882 0.0007841  ... 0.00005818 0.00005732 0.00006187]\n",
      "  [0.00013987 0.00064486 0.0009917  ... 0.00002097 0.00001269 0.0000012 ]\n",
      "  ...\n",
      "  [0.00048954 0.0004593  0.00084067 ... 0.00000501 0.00000538 0.00000643]\n",
      "  [0.00091597 0.00026675 0.00129063 ... 0.00000911 0.00000092 0.00001507]\n",
      "  [0.00030596 0.00052649 0.00136233 ... 0.00001116 0.00000764 0.00000238]]]\n",
      "[[1. 0. 0. 0.]\n",
      " [1. 0. 0. 0.]\n",
      " [0. 0. 0. 1.]\n",
      " [0. 0. 0. 1.]\n",
      " [1. 0. 0. 0.]\n",
      " [0. 0. 0. 1.]\n",
      " [0. 0. 0. 1.]\n",
      " [1. 0. 0. 0.]\n",
      " [1. 0. 0. 0.]\n",
      " [0. 1. 0. 0.]\n",
      " [0. 1. 0. 0.]\n",
      " [0. 1. 0. 0.]\n",
      " [1. 0. 0. 0.]\n",
      " [1. 0. 0. 0.]\n",
      " [0. 1. 0. 0.]\n",
      " [1. 0. 0. 0.]]\n"
     ]
    }
   ],
   "source": [
    "X_test,y_test = lstm_test_size.as_numpy_iterator().next()\n",
    "print(X_test)\n",
    "print(y_test)\n",
    "# y_test.shape"
   ]
  },
  {
   "cell_type": "code",
   "execution_count": 37,
   "metadata": {},
   "outputs": [
    {
     "data": {
      "text/plain": [
       "(16, 1491, 257)"
      ]
     },
     "execution_count": 37,
     "metadata": {},
     "output_type": "execute_result"
    }
   ],
   "source": [
    "X_test.shape"
   ]
  },
  {
   "cell_type": "code",
   "execution_count": 38,
   "metadata": {},
   "outputs": [
    {
     "name": "stdout",
     "output_type": "stream",
     "text": [
      "1/1 [==============================] - 5s 5s/step\n"
     ]
    }
   ],
   "source": [
    "preds = model.predict(X_test)\n"
   ]
  },
  {
   "cell_type": "code",
   "execution_count": 39,
   "metadata": {},
   "outputs": [
    {
     "data": {
      "text/plain": [
       "array([[1.        , 0.00000002, 0.        , 0.        ],\n",
       "       [0.9999919 , 0.00000785, 0.00000026, 0.        ],\n",
       "       [0.00058176, 0.00091572, 0.02683369, 0.9716689 ],\n",
       "       [0.00000115, 0.00000511, 0.00001767, 0.99997616],\n",
       "       [0.99869436, 0.00009719, 0.00118344, 0.00002512],\n",
       "       [0.01558449, 0.00003953, 0.0025853 , 0.98179066],\n",
       "       [0.00000418, 0.00000081, 0.00005807, 0.99993694],\n",
       "       [0.99999464, 0.00000523, 0.0000001 , 0.        ],\n",
       "       [0.99978596, 0.00000016, 0.00021394, 0.00000002],\n",
       "       [0.00017386, 0.99982613, 0.00000004, 0.        ],\n",
       "       [0.00000067, 0.9999993 , 0.00000003, 0.        ],\n",
       "       [0.00000088, 0.99999917, 0.        , 0.        ],\n",
       "       [0.9999951 , 0.00000485, 0.00000002, 0.        ],\n",
       "       [0.9992286 , 0.00000475, 0.00075704, 0.00000962],\n",
       "       [0.00000055, 0.9999994 , 0.        , 0.        ],\n",
       "       [1.        , 0.        , 0.        , 0.        ]], dtype=float32)"
      ]
     },
     "execution_count": 39,
     "metadata": {},
     "output_type": "execute_result"
    }
   ],
   "source": [
    "preds\n"
   ]
  },
  {
   "cell_type": "code",
   "execution_count": 40,
   "metadata": {},
   "outputs": [
    {
     "data": {
      "text/plain": [
       "['ambient',\n",
       " 'ambient',\n",
       " 'gun',\n",
       " 'gun',\n",
       " 'ambient',\n",
       " 'gun',\n",
       " 'gun',\n",
       " 'ambient',\n",
       " 'ambient',\n",
       " 'capuchin',\n",
       " 'capuchin',\n",
       " 'capuchin',\n",
       " 'ambient',\n",
       " 'ambient',\n",
       " 'capuchin',\n",
       " 'ambient']"
      ]
     },
     "execution_count": 40,
     "metadata": {},
     "output_type": "execute_result"
    }
   ],
   "source": [
    "res = [class_list[np.argmax(x)] for x in preds]\n",
    "res"
   ]
  },
  {
   "cell_type": "code",
   "execution_count": 41,
   "metadata": {},
   "outputs": [
    {
     "data": {
      "text/plain": [
       "array([[1., 0., 0., 0.],\n",
       "       [1., 0., 0., 0.],\n",
       "       [0., 0., 0., 1.],\n",
       "       [0., 0., 0., 1.],\n",
       "       [1., 0., 0., 0.],\n",
       "       [0., 0., 0., 1.],\n",
       "       [0., 0., 0., 1.],\n",
       "       [1., 0., 0., 0.],\n",
       "       [1., 0., 0., 0.],\n",
       "       [0., 1., 0., 0.],\n",
       "       [0., 1., 0., 0.],\n",
       "       [0., 1., 0., 0.],\n",
       "       [1., 0., 0., 0.],\n",
       "       [1., 0., 0., 0.],\n",
       "       [0., 1., 0., 0.],\n",
       "       [1., 0., 0., 0.]], dtype=float32)"
      ]
     },
     "execution_count": 41,
     "metadata": {},
     "output_type": "execute_result"
    }
   ],
   "source": [
    "y_test"
   ]
  },
  {
   "cell_type": "code",
   "execution_count": 42,
   "metadata": {},
   "outputs": [],
   "source": [
    "def load_mp3_16k(filepath):\n",
    "    res = tfio.audio.AudioIOTensor(filepath)\n",
    "    tensor = res.to_tensor()\n",
    "    tensor = tf.math.reduce_sum(tensor,axis=1)/2\n",
    "    sample_rate = res.rate\n",
    "    sample_rate = tf.cast(sample_rate,dtype=tf.int64)   \n",
    "    wav = tfio.audio.resample(tensor,rate_in=sample_rate,rate_out=16000)\n",
    "    return wav"
   ]
  },
  {
   "cell_type": "code",
   "execution_count": 43,
   "metadata": {},
   "outputs": [
    {
     "data": {
      "text/plain": [
       "48000"
      ]
     },
     "execution_count": 43,
     "metadata": {},
     "output_type": "execute_result"
    }
   ],
   "source": [
    "import librosa\n",
    "sr = librosa.get_samplerate(\"W_Forest/gun_bird_test.wav\")\n",
    "sr"
   ]
  },
  {
   "cell_type": "code",
   "execution_count": 44,
   "metadata": {},
   "outputs": [
    {
     "name": "stdout",
     "output_type": "stream",
     "text": [
      "tf.Tensor([0. 0. 0. ... 0. 0. 0.], shape=(3222673,), dtype=float32)\n"
     ]
    }
   ],
   "source": [
    "mp3 = \"W_Forest/all_combined.mp3\"\n",
    "wav = load_mp3_16k(mp3)\n",
    "print(wav)\n",
    "audio_slices = tf.keras.utils.timeseries_dataset_from_array(wav,wav,sequence_length=48000,sequence_stride=48000,batch_size=1)"
   ]
  },
  {
   "cell_type": "code",
   "execution_count": 45,
   "metadata": {},
   "outputs": [],
   "source": [
    "def preprocessmp3(sample,index):\n",
    "    sample = sample[0]\n",
    "    zero_padding = tf.zeros([48000]-tf.shape(sample),dtype=tf.float32)\n",
    "    wav = tf.concat([zero_padding,sample],0)\n",
    "    spectrogram = tf.signal.stft(wav,frame_length=320,frame_step=32)#preprocessing the spectrogram\n",
    "    spectrogram = tf.abs(spectrogram)#remove the negatives\n",
    "    # spectrogram = tf.expand_dims(spectrogram,axis=2)#adding a channel dim for the cnn\n",
    "    return spectrogram\n"
   ]
  },
  {
   "cell_type": "code",
   "execution_count": 53,
   "metadata": {},
   "outputs": [],
   "source": [
    "audio_slices = tf.keras.utils.timeseries_dataset_from_array(wav,wav,sequence_length=48000,sequence_stride=48000,batch_size=1)\n",
    "audio_slices = audio_slices.map(preprocessmp3)\n",
    "audio_slices=audio_slices.batch(8)"
   ]
  },
  {
   "cell_type": "code",
   "execution_count": 54,
   "metadata": {},
   "outputs": [
    {
     "name": "stdout",
     "output_type": "stream",
     "text": [
      "8/8 [==============================] - 3s 294ms/step\n"
     ]
    }
   ],
   "source": [
    "yhat = model.predict(audio_slices)\n"
   ]
  },
  {
   "cell_type": "code",
   "execution_count": 55,
   "metadata": {},
   "outputs": [
    {
     "data": {
      "text/plain": [
       "[('ambient', 2),\n",
       " ('ambient', 4),\n",
       " ('ambient', 6),\n",
       " ('ambient', 8),\n",
       " ('ambient', 10),\n",
       " ('ambient', 12),\n",
       " ('ambient', 14),\n",
       " ('ambient', 16),\n",
       " ('ambient', 18),\n",
       " ('ambient', 20),\n",
       " ('ambient', 22),\n",
       " ('ambient', 24),\n",
       " ('ambient', 26),\n",
       " ('ambient', 28),\n",
       " ('ambient', 30),\n",
       " ('ambient', 32),\n",
       " ('ambient', 34),\n",
       " ('ambient', 36),\n",
       " ('ambient', 38),\n",
       " ('ambient', 40),\n",
       " ('ambient', 42),\n",
       " ('ambient', 44),\n",
       " ('capuchin', 46),\n",
       " ('ambient', 48),\n",
       " ('ambient', 50),\n",
       " ('ambient', 52),\n",
       " ('ambient', 54),\n",
       " ('ambient', 56),\n",
       " ('ambient', 58),\n",
       " ('ambient', 60),\n",
       " ('ambient', 62),\n",
       " ('ambient', 64),\n",
       " ('ambient', 66),\n",
       " ('ambient', 68),\n",
       " ('ambient', 70),\n",
       " ('ambient', 72),\n",
       " ('ambient', 74),\n",
       " ('ambient', 76),\n",
       " ('ambient', 78),\n",
       " ('ambient', 80),\n",
       " ('ambient', 82),\n",
       " ('ambient', 84),\n",
       " ('ambient', 86),\n",
       " ('ambient', 88),\n",
       " ('ambient', 90),\n",
       " ('ambient', 92),\n",
       " ('capuchin', 94),\n",
       " ('ambient', 96),\n",
       " ('ambient', 98),\n",
       " ('ambient', 100),\n",
       " ('ambient', 102),\n",
       " ('ambient', 104),\n",
       " ('ambient', 106),\n",
       " ('ambient', 108),\n",
       " ('ambient', 110),\n",
       " ('ambient', 112),\n",
       " ('ambient', 114),\n",
       " ('ambient', 116),\n",
       " ('ambient', 118),\n",
       " ('ambient', 120),\n",
       " ('ambient', 122),\n",
       " ('ambient', 124)]"
      ]
     },
     "execution_count": 55,
     "metadata": {},
     "output_type": "execute_result"
    }
   ],
   "source": [
    "preds = [(class_list[np.argmax(x)],(index+1)*2) for index,x in enumerate(yhat)]\n",
    "preds"
   ]
  },
  {
   "cell_type": "code",
   "execution_count": 69,
   "metadata": {},
   "outputs": [],
   "source": [
    "sample = \"W_Forest/all_combined.wav\"\n",
    "wav = get_audio(sample)\n",
    "# audio_slices = tf.keras.utils.timeseries_dataset_from_array(wav,wav,sequence_length=48000,sequence_stride=48000,batch_size=1)\n",
    "audio_slices = tf.keras.utils.timeseries_dataset_from_array(wav,wav,sequence_length=48000,sequence_stride=48000,batch_size=1)\n",
    "audio_slices = audio_slices.map(preprocessmp3)\n",
    "audio_slices=audio_slices.batch(8)"
   ]
  },
  {
   "cell_type": "code",
   "execution_count": 70,
   "metadata": {},
   "outputs": [
    {
     "name": "stdout",
     "output_type": "stream",
     "text": [
      "9/9 [==============================] - 2s 161ms/step\n",
      "[[0.069343   0.92620385 0.00406794 0.00038523]\n",
      " [0.22029775 0.77956283 0.00013827 0.00000123]\n",
      " [0.23044598 0.75985205 0.00954955 0.0001524 ]\n",
      " [0.38261288 0.591214   0.02442293 0.00175023]\n",
      " [0.99316263 0.00501327 0.00130725 0.00051684]\n",
      " [0.02259175 0.9645416  0.00263907 0.01022755]\n",
      " [0.1297973  0.870105   0.00009577 0.00000185]\n",
      " [0.38073653 0.5976845  0.02122523 0.00035379]\n",
      " [0.08129209 0.91762406 0.00106867 0.00001522]\n",
      " [0.60582143 0.37568024 0.0175709  0.00092743]\n",
      " [0.01373019 0.981141   0.00105204 0.00407683]\n",
      " [0.53297544 0.46688923 0.00013533 0.        ]\n",
      " [0.02124315 0.9705848  0.00558682 0.00258527]\n",
      " [0.13173926 0.85971534 0.00841    0.0001354 ]\n",
      " [0.21259622 0.785571   0.00181958 0.00001325]\n",
      " [0.84288925 0.14970532 0.00734352 0.00006199]\n",
      " [0.0012589  0.00017179 0.00023086 0.99833846]\n",
      " [0.12464815 0.87045825 0.00480313 0.00009048]\n",
      " [0.9843255  0.00430013 0.00545663 0.00591763]\n",
      " [0.08214706 0.90702784 0.00355547 0.0072696 ]\n",
      " [0.03101293 0.9682566  0.00072226 0.00000824]\n",
      " [0.12787555 0.86643386 0.00558253 0.00010808]\n",
      " [0.04164516 0.9581486  0.00020594 0.00000037]\n",
      " [0.00000433 0.9999932  0.00000028 0.00000222]\n",
      " [0.12803228 0.8718937  0.00007401 0.        ]\n",
      " [0.03447854 0.96478426 0.00073559 0.00000161]\n",
      " [0.05138952 0.9481819  0.00042786 0.00000079]\n",
      " [0.0942639  0.90443605 0.00127723 0.00002284]\n",
      " [0.04730912 0.9522235  0.00046258 0.00000485]\n",
      " [0.02494122 0.97287345 0.00216245 0.00002291]\n",
      " [0.24659924 0.00367059 0.01083618 0.738894  ]\n",
      " [0.01297598 0.986973   0.00005035 0.00000074]\n",
      " [0.89456165 0.06964884 0.03577283 0.00001668]\n",
      " [0.7460112  0.24823357 0.00073191 0.00502333]\n",
      " [0.37473735 0.6213408  0.00390628 0.00001552]\n",
      " [0.18430303 0.7946699  0.02047198 0.00055502]\n",
      " [0.31172127 0.28527462 0.39984533 0.00315879]\n",
      " [0.06355872 0.9048392  0.02953653 0.00206547]\n",
      " [0.34106955 0.6569595  0.00194472 0.00002628]\n",
      " [0.16028827 0.83406055 0.00561427 0.00003688]\n",
      " [0.11761121 0.8813235  0.00105208 0.0000133 ]\n",
      " [0.01477267 0.98513585 0.00009055 0.00000099]\n",
      " [0.28682098 0.6944469  0.01782286 0.0009092 ]\n",
      " [0.02536556 0.963871   0.0017546  0.00900878]\n",
      " [0.5137853  0.4856214  0.00059319 0.00000002]\n",
      " [0.09406655 0.9003463  0.00493215 0.00065504]\n",
      " [0.07505839 0.9246556  0.00028166 0.00000439]\n",
      " [0.20233446 0.79593015 0.00173066 0.00000475]\n",
      " [0.91082966 0.02860693 0.03019113 0.03037226]\n",
      " [0.01774529 0.85384125 0.09384675 0.03456667]\n",
      " [0.22212757 0.7757165  0.00214417 0.00001185]\n",
      " [0.44350407 0.5523251  0.0040187  0.00015214]\n",
      " [0.19855186 0.79672146 0.00463258 0.00009407]\n",
      " [0.2868173  0.7103817  0.00276607 0.00003494]\n",
      " [0.01812684 0.98062205 0.00121538 0.00003568]\n",
      " [0.12191488 0.8732757  0.00476001 0.00004945]\n",
      " [0.03687132 0.963039   0.00008933 0.00000028]\n",
      " [0.03455432 0.96484417 0.00059984 0.00000176]\n",
      " [0.01267308 0.9868138  0.00050435 0.00000883]\n",
      " [0.04062661 0.95740104 0.001961   0.00001145]\n",
      " [0.06666991 0.93312365 0.00020593 0.00000048]\n",
      " [0.162992   0.8344411  0.002556   0.00001088]\n",
      " [0.01769257 0.9813937  0.00089389 0.00001976]\n",
      " [0.02398038 0.9732242  0.00277363 0.00002184]\n",
      " [0.02216754 0.9774286  0.00039766 0.00000623]\n",
      " [0.01305416 0.986909   0.00003679 0.00000008]\n",
      " [0.15284511 0.8459452  0.00120625 0.0000035 ]]\n"
     ]
    }
   ],
   "source": [
    "yhat = model.predict(audio_slices)\n",
    "print(yhat)"
   ]
  },
  {
   "cell_type": "code",
   "execution_count": 71,
   "metadata": {},
   "outputs": [
    {
     "data": {
      "text/plain": [
       "[('capuchin', 1),\n",
       " ('capuchin', 2),\n",
       " ('capuchin', 3),\n",
       " ('capuchin', 4),\n",
       " ('ambient', 5),\n",
       " ('capuchin', 6),\n",
       " ('capuchin', 7),\n",
       " ('capuchin', 8),\n",
       " ('capuchin', 9),\n",
       " ('ambient', 10),\n",
       " ('capuchin', 11),\n",
       " ('ambient', 12),\n",
       " ('capuchin', 13),\n",
       " ('capuchin', 14),\n",
       " ('capuchin', 15),\n",
       " ('ambient', 16),\n",
       " ('gun', 17),\n",
       " ('capuchin', 18),\n",
       " ('ambient', 19),\n",
       " ('capuchin', 20),\n",
       " ('capuchin', 21),\n",
       " ('capuchin', 22),\n",
       " ('capuchin', 23),\n",
       " ('capuchin', 24),\n",
       " ('capuchin', 25),\n",
       " ('capuchin', 26),\n",
       " ('capuchin', 27),\n",
       " ('capuchin', 28),\n",
       " ('capuchin', 29),\n",
       " ('capuchin', 30),\n",
       " ('gun', 31),\n",
       " ('capuchin', 32),\n",
       " ('ambient', 33),\n",
       " ('ambient', 34),\n",
       " ('capuchin', 35),\n",
       " ('capuchin', 36),\n",
       " ('lion', 37),\n",
       " ('capuchin', 38),\n",
       " ('capuchin', 39),\n",
       " ('capuchin', 40),\n",
       " ('capuchin', 41),\n",
       " ('capuchin', 42),\n",
       " ('capuchin', 43),\n",
       " ('capuchin', 44),\n",
       " ('ambient', 45),\n",
       " ('capuchin', 46),\n",
       " ('capuchin', 47),\n",
       " ('capuchin', 48),\n",
       " ('ambient', 49),\n",
       " ('capuchin', 50),\n",
       " ('capuchin', 51),\n",
       " ('capuchin', 52),\n",
       " ('capuchin', 53),\n",
       " ('capuchin', 54),\n",
       " ('capuchin', 55),\n",
       " ('capuchin', 56),\n",
       " ('capuchin', 57),\n",
       " ('capuchin', 58),\n",
       " ('capuchin', 59),\n",
       " ('capuchin', 60),\n",
       " ('capuchin', 61),\n",
       " ('capuchin', 62),\n",
       " ('capuchin', 63),\n",
       " ('capuchin', 64),\n",
       " ('capuchin', 65),\n",
       " ('capuchin', 66),\n",
       " ('capuchin', 67)]"
      ]
     },
     "execution_count": 71,
     "metadata": {},
     "output_type": "execute_result"
    }
   ],
   "source": [
    "preds = [(class_list[np.argmax(x)],(index+1)) for index,x in enumerate(yhat)]\n",
    "preds"
   ]
  },
  {
   "cell_type": "code",
   "execution_count": null,
   "metadata": {},
   "outputs": [],
   "source": []
  },
  {
   "cell_type": "code",
   "execution_count": 52,
   "metadata": {},
   "outputs": [],
   "source": [
    "# model.save(\"bird-gun.h5\")"
   ]
  },
  {
   "cell_type": "code",
   "execution_count": null,
   "metadata": {},
   "outputs": [],
   "source": []
  }
 ],
 "metadata": {
  "kernelspec": {
   "display_name": "Python 3.8.13 ('torch-gpu')",
   "language": "python",
   "name": "python3"
  },
  "language_info": {
   "codemirror_mode": {
    "name": "ipython",
    "version": 3
   },
   "file_extension": ".py",
   "mimetype": "text/x-python",
   "name": "python",
   "nbconvert_exporter": "python",
   "pygments_lexer": "ipython3",
   "version": "3.8.13"
  },
  "orig_nbformat": 4,
  "vscode": {
   "interpreter": {
    "hash": "ea9ceb0b7e3f457d29129ad6ad6d3750fd1ab50a0da3c37c2bb5b7c85d56784f"
   }
  }
 },
 "nbformat": 4,
 "nbformat_minor": 2
}
